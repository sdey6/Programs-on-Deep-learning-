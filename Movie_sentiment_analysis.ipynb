{
  "nbformat": 4,
  "nbformat_minor": 0,
  "metadata": {
    "colab": {
      "name": "Movie sentiment analysis.ipynb",
      "provenance": []
    },
    "kernelspec": {
      "name": "python3",
      "display_name": "Python 3"
    },
    "language_info": {
      "name": "python"
    }
  },
  "cells": [
    {
      "cell_type": "markdown",
      "source": [
        "Buiding and training a model to give sentiment of a movie review based on pretrained model ofgoogle, which is trained with google news dataset."
      ],
      "metadata": {
        "id": "Hwze6ekrfp1d"
      }
    },
    {
      "cell_type": "code",
      "execution_count": 3,
      "metadata": {
        "id": "7I5zSp_f6HLS"
      },
      "outputs": [],
      "source": [
        "import tensorflow as tf\n",
        "#tf.__version__\n",
        "import tensorflow_datasets as tfds"
      ]
    },
    {
      "cell_type": "markdown",
      "source": [
        "Listing all the dataset using tfds module and list_builder function. "
      ],
      "metadata": {
        "id": "tbLLqY1A7uHP"
      }
    },
    {
      "cell_type": "code",
      "source": [
        "tfds.list_builders() #'imdb_reviews'"
      ],
      "metadata": {
        "id": "dPjqpDKD7JOm"
      },
      "execution_count": null,
      "outputs": []
    },
    {
      "cell_type": "markdown",
      "source": [
        "Load the imdb review dataset"
      ],
      "metadata": {
        "id": "BQBAZEHH72De"
      }
    },
    {
      "cell_type": "code",
      "source": [
        "(train_data,validation_data),test_data=tfds.load(name='imdb_reviews',split=(['train[:70%]', 'train[70%:]'],tfds.Split.TEST),as_supervised=True)"
      ],
      "metadata": {
        "id": "sWlc_u5Y75bG"
      },
      "execution_count": 12,
      "outputs": []
    },
    {
      "cell_type": "markdown",
      "source": [
        "To see the data we have iterate through batches"
      ],
      "metadata": {
        "id": "dV_YnI26ECqK"
      }
    },
    {
      "cell_type": "code",
      "source": [
        "train_data_batch,train_label_batch=next(iter(train_data.batch(5)))\n",
        "print(train_data_batch,train_label_batch)"
      ],
      "metadata": {
        "colab": {
          "base_uri": "https://localhost:8080/"
        },
        "id": "G_cZqpRdCbQ7",
        "outputId": "dcac8c47-28c5-4802-a6f3-b4a3c1e9297b"
      },
      "execution_count": 21,
      "outputs": [
        {
          "output_type": "stream",
          "name": "stdout",
          "text": [
            "tf.Tensor(\n",
            "[b\"This was an absolutely terrible movie. Don't be lured in by Christopher Walken or Michael Ironside. Both are great actors, but this must simply be their worst role in history. Even their great acting could not redeem this movie's ridiculous storyline. This movie is an early nineties US propaganda piece. The most pathetic scenes were those when the Columbian rebels were making their cases for revolutions. Maria Conchita Alonso appeared phony, and her pseudo-love affair with Walken was nothing but a pathetic emotional plug in a movie that was devoid of any real meaning. I am disappointed that there are movies like this, ruining actor's like Christopher Walken's good name. I could barely sit through it.\"\n",
            " b'I have been known to fall asleep during films, but this is usually due to a combination of things including, really tired, being warm and comfortable on the sette and having just eaten a lot. However on this occasion I fell asleep because the film was rubbish. The plot development was constant. Constantly slow and boring. Things seemed to happen, but with no explanation of what was causing them or why. I admit, I may have missed part of the film, but i watched the majority of it and everything just seemed to happen of its own accord without any real concern for anything else. I cant recommend this film at all.'\n",
            " b'Mann photographs the Alberta Rocky Mountains in a superb fashion, and Jimmy Stewart and Walter Brennan give enjoyable performances as they always seem to do. <br /><br />But come on Hollywood - a Mountie telling the people of Dawson City, Yukon to elect themselves a marshal (yes a marshal!) and to enforce the law themselves, then gunfighters battling it out on the streets for control of the town? <br /><br />Nothing even remotely resembling that happened on the Canadian side of the border during the Klondike gold rush. Mr. Mann and company appear to have mistaken Dawson City for Deadwood, the Canadian North for the American Wild West.<br /><br />Canadian viewers be prepared for a Reefer Madness type of enjoyable howl with this ludicrous plot, or, to shake your head in disgust.'\n",
            " b'This is the kind of film for a snowy Sunday afternoon when the rest of the world can go ahead with its own business as you descend into a big arm-chair and mellow for a couple of hours. Wonderful performances from Cher and Nicolas Cage (as always) gently row the plot along. There are no rapids to cross, no dangerous waters, just a warm and witty paddle through New York life at its best. A family film in every sense and one that deserves the praise it received.'\n",
            " b'As others have mentioned, all the women that go nude in this film are mostly absolutely gorgeous. The plot very ably shows the hypocrisy of the female libido. When men are around they want to be pursued, but when no \"men\" are around, they become the pursuers of a 14 year old boy. And the boy becomes a man really fast (we should all be so lucky at this age!). He then gets up the courage to pursue his true love.'], shape=(5,), dtype=string) tf.Tensor([0 0 0 1 1], shape=(5,), dtype=int64)\n"
          ]
        }
      ]
    },
    {
      "cell_type": "code",
      "source": [
        "!pip install tensorflow_hub"
      ],
      "metadata": {
        "colab": {
          "base_uri": "https://localhost:8080/"
        },
        "id": "pU5nTcKTLs_Q",
        "outputId": "d720a863-a119-4b35-888f-0883680d8c53"
      },
      "execution_count": 22,
      "outputs": [
        {
          "output_type": "stream",
          "name": "stdout",
          "text": [
            "Requirement already satisfied: tensorflow_hub in /usr/local/lib/python3.7/dist-packages (0.12.0)\n",
            "Requirement already satisfied: protobuf>=3.8.0 in /usr/local/lib/python3.7/dist-packages (from tensorflow_hub) (3.17.3)\n",
            "Requirement already satisfied: numpy>=1.12.0 in /usr/local/lib/python3.7/dist-packages (from tensorflow_hub) (1.19.5)\n",
            "Requirement already satisfied: six>=1.9 in /usr/local/lib/python3.7/dist-packages (from protobuf>=3.8.0->tensorflow_hub) (1.15.0)\n"
          ]
        }
      ]
    },
    {
      "cell_type": "markdown",
      "source": [
        "Import hub module for using the advantage of transfer learning from google's pretrained model with google news dataset."
      ],
      "metadata": {
        "id": "3Lwjd7CNNXr4"
      }
    },
    {
      "cell_type": "code",
      "source": [
        "import tensorflow_hub as hub"
      ],
      "metadata": {
        "id": "SSJiDac2Ll04"
      },
      "execution_count": 23,
      "outputs": []
    },
    {
      "cell_type": "code",
      "source": [
        "pretrained_model='https://tfhub.dev/google/tf2-preview/gnews-swivel-20dim/1' #embedding dim=20\n",
        "hub_layer=hub.KerasLayer(pretrained_model,input_shape=[], dtype=tf.string,trainable=True)"
      ],
      "metadata": {
        "id": "g0i6zqJvMptI"
      },
      "execution_count": 26,
      "outputs": []
    },
    {
      "cell_type": "markdown",
      "source": [
        "Test our hub layer on train_data_batch, we see the two reviews from train_data_batch is converted into vectors of size 20"
      ],
      "metadata": {
        "id": "Bqu5P195Npg7"
      }
    },
    {
      "cell_type": "code",
      "source": [
        "hub_layer(train_data_batch[:2])\n"
      ],
      "metadata": {
        "colab": {
          "base_uri": "https://localhost:8080/"
        },
        "id": "-pCN068TNvjg",
        "outputId": "de728b63-c138-4518-acbb-317692c54abe"
      },
      "execution_count": 29,
      "outputs": [
        {
          "output_type": "execute_result",
          "data": {
            "text/plain": [
              "<tf.Tensor: shape=(2, 20), dtype=float32, numpy=\n",
              "array([[ 1.765786  , -3.882232  ,  3.9134233 , -1.5557289 , -3.3362343 ,\n",
              "        -1.7357955 , -1.9954445 ,  1.2989551 ,  5.081598  , -1.1041286 ,\n",
              "        -2.0503852 , -0.72675157, -0.65675956,  0.24436149, -3.7208383 ,\n",
              "         2.0954835 ,  2.2969332 , -2.0689783 , -2.9489717 , -1.1315987 ],\n",
              "       [ 1.8804485 , -2.5852382 ,  3.4066997 ,  1.0982676 , -4.056685  ,\n",
              "        -4.891284  , -2.785554  ,  1.3874227 ,  3.8476458 , -0.9256538 ,\n",
              "        -1.896706  ,  1.2113281 ,  0.11474707,  0.76209456, -4.8791065 ,\n",
              "         2.906149  ,  4.7087674 , -2.3652055 , -3.5015898 , -1.6390051 ]],\n",
              "      dtype=float32)>"
            ]
          },
          "metadata": {},
          "execution_count": 29
        }
      ]
    },
    {
      "cell_type": "markdown",
      "source": [
        "Build model"
      ],
      "metadata": {
        "id": "J3pUKcROUNn1"
      }
    },
    {
      "cell_type": "code",
      "source": [
        "from tensorflow.keras import layers\n",
        "from keras.layers import Dense"
      ],
      "metadata": {
        "id": "jTqvY2IhUznc"
      },
      "execution_count": 32,
      "outputs": []
    },
    {
      "cell_type": "code",
      "source": [
        "model=tf.keras.Sequential()\n",
        "model.add(hub_layer)# adding hub at the begging of model from which the next dense layer will take input . hub layer has 20 neurons as the vector size\n",
        "model.add(Dense(10,activation='relu'))#next layer has 10\n",
        "model.add(Dense(10,activation='relu'))\n",
        "model.add(Dense(1,activation='sigmoid'))# output layer"
      ],
      "metadata": {
        "id": "e-xzhV9IUPil"
      },
      "execution_count": 33,
      "outputs": []
    },
    {
      "cell_type": "code",
      "source": [
        "model.summary()"
      ],
      "metadata": {
        "colab": {
          "base_uri": "https://localhost:8080/"
        },
        "id": "4Ck7plEEWJbC",
        "outputId": "6b25458b-0960-4318-adbb-f7263fea8778"
      },
      "execution_count": 34,
      "outputs": [
        {
          "output_type": "stream",
          "name": "stdout",
          "text": [
            "Model: \"sequential_1\"\n",
            "_________________________________________________________________\n",
            " Layer (type)                Output Shape              Param #   \n",
            "=================================================================\n",
            " keras_layer (KerasLayer)    (None, 20)                400020    \n",
            "                                                                 \n",
            " dense (Dense)               (None, 10)                210       \n",
            "                                                                 \n",
            " dense_1 (Dense)             (None, 10)                110       \n",
            "                                                                 \n",
            " dense_2 (Dense)             (None, 1)                 11        \n",
            "                                                                 \n",
            "=================================================================\n",
            "Total params: 400,351\n",
            "Trainable params: 400,351\n",
            "Non-trainable params: 0\n",
            "_________________________________________________________________\n"
          ]
        }
      ]
    },
    {
      "cell_type": "code",
      "source": [
        "model.compile(optimizer='adam',loss='binary_crossentropy',metrics=['accuracy'])"
      ],
      "metadata": {
        "id": "1Exa7JBzWz8c"
      },
      "execution_count": 41,
      "outputs": []
    },
    {
      "cell_type": "code",
      "source": [
        "model.fit(train_data.shuffle(1000).batch(128),validation_data=validation_data.shuffle(1000).batch(128),epochs=20)"
      ],
      "metadata": {
        "colab": {
          "base_uri": "https://localhost:8080/"
        },
        "id": "NOpvEb5fZIZs",
        "outputId": "0f732eed-6677-40f2-f875-35836d18a147"
      },
      "execution_count": 43,
      "outputs": [
        {
          "output_type": "stream",
          "name": "stdout",
          "text": [
            "Epoch 1/20\n",
            "137/137 [==============================] - 5s 32ms/step - loss: 0.2799 - accuracy: 0.8937 - val_loss: 0.3479 - val_accuracy: 0.8571\n",
            "Epoch 2/20\n",
            "137/137 [==============================] - 5s 33ms/step - loss: 0.2344 - accuracy: 0.9144 - val_loss: 0.3341 - val_accuracy: 0.8629\n",
            "Epoch 3/20\n",
            "137/137 [==============================] - 5s 33ms/step - loss: 0.1955 - accuracy: 0.9315 - val_loss: 0.3337 - val_accuracy: 0.8647\n",
            "Epoch 4/20\n",
            "137/137 [==============================] - 5s 33ms/step - loss: 0.1643 - accuracy: 0.9452 - val_loss: 0.3410 - val_accuracy: 0.8688\n",
            "Epoch 5/20\n",
            "137/137 [==============================] - 5s 33ms/step - loss: 0.1375 - accuracy: 0.9563 - val_loss: 0.3574 - val_accuracy: 0.8659\n",
            "Epoch 6/20\n",
            "137/137 [==============================] - 5s 33ms/step - loss: 0.1151 - accuracy: 0.9671 - val_loss: 0.3700 - val_accuracy: 0.8676\n",
            "Epoch 7/20\n",
            "137/137 [==============================] - 5s 33ms/step - loss: 0.0963 - accuracy: 0.9749 - val_loss: 0.3969 - val_accuracy: 0.8669\n",
            "Epoch 8/20\n",
            "137/137 [==============================] - 5s 33ms/step - loss: 0.0801 - accuracy: 0.9813 - val_loss: 0.4180 - val_accuracy: 0.8663\n",
            "Epoch 9/20\n",
            "137/137 [==============================] - 5s 33ms/step - loss: 0.0681 - accuracy: 0.9849 - val_loss: 0.4465 - val_accuracy: 0.8641\n",
            "Epoch 10/20\n",
            "137/137 [==============================] - 5s 33ms/step - loss: 0.0582 - accuracy: 0.9889 - val_loss: 0.4593 - val_accuracy: 0.8648\n",
            "Epoch 11/20\n",
            "137/137 [==============================] - 5s 33ms/step - loss: 0.0507 - accuracy: 0.9908 - val_loss: 0.4864 - val_accuracy: 0.8640\n",
            "Epoch 12/20\n",
            "137/137 [==============================] - 5s 33ms/step - loss: 0.0449 - accuracy: 0.9922 - val_loss: 0.5029 - val_accuracy: 0.8627\n",
            "Epoch 13/20\n",
            "137/137 [==============================] - 5s 33ms/step - loss: 0.0407 - accuracy: 0.9930 - val_loss: 0.5302 - val_accuracy: 0.8629\n",
            "Epoch 14/20\n",
            "137/137 [==============================] - 5s 33ms/step - loss: 0.0372 - accuracy: 0.9938 - val_loss: 0.5493 - val_accuracy: 0.8617\n",
            "Epoch 15/20\n",
            "137/137 [==============================] - 5s 33ms/step - loss: 0.0345 - accuracy: 0.9941 - val_loss: 0.5685 - val_accuracy: 0.8609\n",
            "Epoch 16/20\n",
            "137/137 [==============================] - 5s 33ms/step - loss: 0.0321 - accuracy: 0.9945 - val_loss: 0.5858 - val_accuracy: 0.8608\n",
            "Epoch 17/20\n",
            "137/137 [==============================] - 5s 33ms/step - loss: 0.0303 - accuracy: 0.9948 - val_loss: 0.6050 - val_accuracy: 0.8585\n",
            "Epoch 18/20\n",
            "137/137 [==============================] - 5s 32ms/step - loss: 0.0289 - accuracy: 0.9948 - val_loss: 0.6234 - val_accuracy: 0.8601\n",
            "Epoch 19/20\n",
            "137/137 [==============================] - 5s 33ms/step - loss: 0.0276 - accuracy: 0.9951 - val_loss: 0.6451 - val_accuracy: 0.8603\n",
            "Epoch 20/20\n",
            "137/137 [==============================] - 5s 33ms/step - loss: 0.0265 - accuracy: 0.9953 - val_loss: 0.6554 - val_accuracy: 0.8601\n"
          ]
        },
        {
          "output_type": "execute_result",
          "data": {
            "text/plain": [
              "<keras.callbacks.History at 0x7f3eee9963d0>"
            ]
          },
          "metadata": {},
          "execution_count": 43
        }
      ]
    },
    {
      "cell_type": "code",
      "source": [
        "test_data_batch,test_data_label=next(iter(test_data.batch(2)))\n",
        "print(test_data_batch)\n",
        "print(test_data_label)"
      ],
      "metadata": {
        "colab": {
          "base_uri": "https://localhost:8080/"
        },
        "id": "3bthD6yLfIM6",
        "outputId": "62a0eadf-9209-4902-afff-980b2b80d2aa"
      },
      "execution_count": 51,
      "outputs": [
        {
          "output_type": "stream",
          "name": "stdout",
          "text": [
            "tf.Tensor(\n",
            "[b\"There are films that make careers. For George Romero, it was NIGHT OF THE LIVING DEAD; for Kevin Smith, CLERKS; for Robert Rodriguez, EL MARIACHI. Add to that list Onur Tukel's absolutely amazing DING-A-LING-LESS. Flawless film-making, and as assured and as professional as any of the aforementioned movies. I haven't laughed this hard since I saw THE FULL MONTY. (And, even then, I don't think I laughed quite this hard... So to speak.) Tukel's talent is considerable: DING-A-LING-LESS is so chock full of double entendres that one would have to sit down with a copy of this script and do a line-by-line examination of it to fully appreciate the, uh, breadth and width of it. Every shot is beautifully composed (a clear sign of a sure-handed director), and the performances all around are solid (there's none of the over-the-top scenery chewing one might've expected from a film like this). DING-A-LING-LESS is a film whose time has come.\"\n",
            " b\"A blackly comic tale of a down-trodden priest, Nazarin showcases the economy that Luis Bunuel was able to achieve in being able to tell a deeply humanist fable with a minimum of fuss. As an output from his Mexican era of film making, it was an invaluable talent to possess, with little money and extremely tight schedules. Nazarin, however, surpasses many of Bunuel's previous Mexican films in terms of the acting (Francisco Rabal is excellent), narrative and theme.<br /><br />The theme, interestingly, is something that was explored again in Viridiana, made three years later in Spain. It concerns the individual's struggle for humanity and altruism amongst a society that rejects any notion of virtue. Father Nazarin, however, is portrayed more sympathetically than Sister Viridiana. Whereas the latter seems to choose charity because she wishes to atone for her (perceived) sins, Nazarin's whole existence and reason for being seems to be to help others, whether they (or we) like it or not. The film's last scenes, in which he casts doubt on his behaviour and, in a split second, has to choose between the life he has been leading or the conventional life that is expected of a priest, are so emotional because they concern his moral integrity and we are never quite sure whether it remains intact or not.<br /><br />This is a remarkable film and I would urge anyone interested in classic cinema to seek it out. It is one of Bunuel's most moving films, and encapsulates many of his obsessions: frustrated desire, mad love, religious hypocrisy etc. In my view 'Nazarin' is second only to 'The Exterminating Angel', in terms of his Mexican movies, and is certainly near the top of the list of Bunuel's total filmic output.\"], shape=(2,), dtype=string)\n",
            "tf.Tensor([1 1], shape=(2,), dtype=int64)\n"
          ]
        }
      ]
    },
    {
      "cell_type": "code",
      "source": [
        "model.predict(test_data_batch)"
      ],
      "metadata": {
        "colab": {
          "base_uri": "https://localhost:8080/"
        },
        "id": "NoC8k3ERb7QS",
        "outputId": "ccfcbe4f-d622-4554-f8c7-2a8806313e98"
      },
      "execution_count": 52,
      "outputs": [
        {
          "output_type": "execute_result",
          "data": {
            "text/plain": [
              "array([[0.99999213],\n",
              "       [0.9775069 ]], dtype=float32)"
            ]
          },
          "metadata": {},
          "execution_count": 52
        }
      ]
    },
    {
      "cell_type": "markdown",
      "source": [
        "Another pretrained model with 128 dimension of word embedding in cvector space"
      ],
      "metadata": {
        "id": "FwfMdEyCfglN"
      }
    },
    {
      "cell_type": "code",
      "source": [
        "hub2=hub.KerasLayer('https://tfhub.dev/google/nnlm-en-dim128/2') #embedding dimension is 128"
      ],
      "metadata": {
        "id": "bDcq9yudYF2B"
      },
      "execution_count": 36,
      "outputs": []
    },
    {
      "cell_type": "code",
      "source": [
        "hub2().shape"
      ],
      "metadata": {
        "colab": {
          "base_uri": "https://localhost:8080/"
        },
        "id": "Qrmptm0LYgDU",
        "outputId": "74944e43-59a9-4b68-b538-ae96de7e9eee"
      },
      "execution_count": 38,
      "outputs": [
        {
          "output_type": "execute_result",
          "data": {
            "text/plain": [
              "TensorShape([3, 128])"
            ]
          },
          "metadata": {},
          "execution_count": 38
        }
      ]
    }
  ]
}